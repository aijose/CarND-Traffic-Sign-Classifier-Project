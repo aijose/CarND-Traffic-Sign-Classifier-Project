{
 "cells": [
  {
   "cell_type": "markdown",
   "metadata": {},
   "source": [
    "# Self-Driving Car Engineer Nanodegree\n",
    "\n",
    "## Deep Learning\n",
    "\n",
    "## Project: Build a Traffic Sign Recognition Classifier\n",
    "\n",
    "In this notebook, a template is provided for you to implement your functionality in stages, which is required to successfully complete this project. If additional code is required that cannot be included in the notebook, be sure that the Python code is successfully imported and included in your submission if necessary. \n",
    "\n",
    "> **Note**: Once you have completed all of the code implementations, you need to finalize your work by exporting the iPython Notebook as an HTML document. Before exporting the notebook to html, all of the code cells need to have been run so that reviewers can see the final implementation and output. You can then export the notebook by using the menu above and navigating to  \\n\",\n",
    "    \"**File -> Download as -> HTML (.html)**. Include the finished document along with this notebook as your submission. \n",
    "\n",
    "In addition to implementing code, there is a writeup to complete. The writeup should be completed in a separate file, which can be either a markdown file or a pdf document. There is a [write up template](https://github.com/udacity/CarND-Traffic-Sign-Classifier-Project/blob/master/writeup_template.md) that can be used to guide the writing process. Completing the code template and writeup template will cover all of the [rubric points](https://review.udacity.com/#!/rubrics/481/view) for this project.\n",
    "\n",
    "The [rubric](https://review.udacity.com/#!/rubrics/481/view) contains \"Stand Out Suggestions\" for enhancing the project beyond the minimum requirements. The stand out suggestions are optional. If you decide to pursue the \"stand out suggestions\", you can include the code in this Ipython notebook and also discuss the results in the writeup file.\n",
    "\n",
    "\n",
    ">**Note:** Code and Markdown cells can be executed using the **Shift + Enter** keyboard shortcut. In addition, Markdown cells can be edited by typically double-clicking the cell to enter edit mode."
   ]
  },
  {
   "cell_type": "markdown",
   "metadata": {},
   "source": [
    "---\n",
    "## Step 0: Load The Data"
   ]
  },
  {
   "cell_type": "code",
   "execution_count": null,
   "metadata": {},
   "outputs": [],
   "source": [
    "# Load pickled data\n",
    "import pickle\n",
    "from sklearn.utils.multiclass import unique_labels\n",
    "from skimage.util import random_noise\n",
    "from sklearn.utils import shuffle\n",
    "import cv2\n",
    "import numpy as np\n",
    "import tensorflow as tf\n",
    "import random\n",
    "import matplotlib.pyplot as plt\n",
    "%matplotlib inline\n",
    "\n",
    "# TODO: Fill this in based on where you saved the training and testing data\n",
    "training_file = \"./data/train.p\"\n",
    "validation_file= \"./data/valid.p\"\n",
    "testing_file = \"./data/test.p\"\n",
    "\n",
    "with open(training_file, mode='rb') as f:\n",
    "    train = pickle.load(f)\n",
    "with open(validation_file, mode='rb') as f:\n",
    "    valid = pickle.load(f)\n",
    "with open(testing_file, mode='rb') as f:\n",
    "    test = pickle.load(f)\n",
    "    \n",
    "X_train, y_train = train['features'], train['labels']\n",
    "X_valid, y_valid = valid['features'], valid['labels']\n",
    "X_test, y_test = test['features'], test['labels']"
   ]
  },
  {
   "cell_type": "markdown",
   "metadata": {},
   "source": [
    "---\n",
    "\n",
    "## Step 1: Dataset Summary & Exploration\n",
    "\n",
    "The pickled data is a dictionary with 4 key/value pairs:\n",
    "\n",
    "- `'features'` is a 4D array containing raw pixel data of the traffic sign images, (num examples, width, height, channels).\n",
    "- `'labels'` is a 1D array containing the label/class id of the traffic sign. The file `signnames.csv` contains id -> name mappings for each id.\n",
    "- `'sizes'` is a list containing tuples, (width, height) representing the original width and height the image.\n",
    "- `'coords'` is a list containing tuples, (x1, y1, x2, y2) representing coordinates of a bounding box around the sign in the image. **THESE COORDINATES ASSUME THE ORIGINAL IMAGE. THE PICKLED DATA CONTAINS RESIZED VERSIONS (32 by 32) OF THESE IMAGES**\n",
    "\n",
    "Complete the basic data summary below. Use python, numpy and/or pandas methods to calculate the data summary rather than hard coding the results. For example, the [pandas shape method](http://pandas.pydata.org/pandas-docs/stable/generated/pandas.DataFrame.shape.html) might be useful for calculating some of the summary results. "
   ]
  },
  {
   "cell_type": "markdown",
   "metadata": {},
   "source": [
    "### Provide a Basic Summary of the Data Set Using Python, Numpy and/or Pandas"
   ]
  },
  {
   "cell_type": "code",
   "execution_count": null,
   "metadata": {},
   "outputs": [],
   "source": [
    "### Replace each question mark with the appropriate value. \n",
    "### Use python, pandas or numpy methods rather than hard coding the results\n",
    "\n",
    "EPOCHS = 20\n",
    "BATCH_SIZE = 128\n",
    "\n",
    "# TODO: Number of training examples\n",
    "n_train = len(X_train)\n",
    "\n",
    "# TODO: Number of validation examples\n",
    "n_validation = len(X_valid)\n",
    "\n",
    "# TODO: Number of testing examples.\n",
    "n_test = len(X_test)\n",
    "\n",
    "# TODO: What's the shape of an traffic sign image?\n",
    "image_shape = X_train[0].shape\n",
    "\n",
    "# TODO: How many unique classes/labels there are in the dataset.\n",
    "n_classes = len(unique_labels(y_train))\n",
    "\n",
    "print(\"Number of training examples =\", n_train)\n",
    "print(\"Number of validation examples =\", n_validation)\n",
    "print(\"Number of testing examples =\", n_test)\n",
    "print(\"Image data shape =\", image_shape)\n",
    "print(\"Number of classes =\", n_classes)"
   ]
  },
  {
   "cell_type": "code",
   "execution_count": null,
   "metadata": {},
   "outputs": [],
   "source": []
  },
  {
   "cell_type": "markdown",
   "metadata": {},
   "source": [
    "### Include an exploratory visualization of the dataset"
   ]
  },
  {
   "cell_type": "markdown",
   "metadata": {},
   "source": [
    "Visualize the German Traffic Signs Dataset using the pickled file(s). This is open ended, suggestions include: plotting traffic sign images, plotting the count of each sign, etc. \n",
    "\n",
    "The [Matplotlib](http://matplotlib.org/) [examples](http://matplotlib.org/examples/index.html) and [gallery](http://matplotlib.org/gallery.html) pages are a great resource for doing visualizations in Python.\n",
    "\n",
    "**NOTE:** It's recommended you start with something simple first. If you wish to do more, come back to it after you've completed the rest of the sections. It can be interesting to look at the distribution of classes in the training, validation and test set. Is the distribution the same? Are there more examples of some classes than others?"
   ]
  },
  {
   "cell_type": "code",
   "execution_count": null,
   "metadata": {},
   "outputs": [],
   "source": [
    "### Data exploration visualization code goes here.\n",
    "### Feel free to use as many code cells as needed.\n",
    "fignum = 0\n",
    "\n",
    "n_classes = len(unique_labels(y_train))\n",
    "n_train = len(X_train)\n",
    "n_average = n_train // n_classes\n",
    "fignum += 1\n",
    "plt.figure(fignum)\n",
    "plt.hist(y_train, bins=n_classes)  # arguments are passed to np.histogram\n",
    "plt.title(\"Histogram for training data\")\n",
    "plt.xlabel(\"Class label\")\n",
    "plt.ylabel(\"Number of samples\")\n",
    "plt.savefig(\"output/histogram_training.png\")\n",
    "\n",
    "fignum += 1\n",
    "plt.figure(fignum)\n",
    "plt.hist(y_valid, bins=n_classes)  # arguments are passed to np.histogram\n",
    "plt.title(\"Histogram for validation data\")\n",
    "plt.xlabel(\"Class label\")\n",
    "plt.ylabel(\"Number of samples\")\n",
    "plt.savefig(\"output/histogram_validation.png\")\n",
    "\n",
    "fignum += 1\n",
    "plt.figure(fignum)\n",
    "plt.hist(y_test, bins=n_classes)  # arguments are passed to np.histogram\n",
    "plt.title(\"Histogram for test data\")\n",
    "plt.xlabel(\"Class label\")\n",
    "plt.ylabel(\"Number of samples\")\n",
    "plt.savefig(\"output/histogram_test.png\")\n",
    "\n",
    "# Visualizations will be shown in the notebook.\n",
    "\n",
    "#plt.imshow(cv2.cvtColor(X_train[random.randint(0, n_train)], cv2.COLOR_BGR2RGB))"
   ]
  },
  {
   "cell_type": "code",
   "execution_count": null,
   "metadata": {},
   "outputs": [],
   "source": [
    "sample_image = X_train[34248]\n",
    "sample_image_gray = cv2.cvtColor(sample_image, cv2.COLOR_RGB2GRAY)\n",
    "\n",
    "fignum=fignum+1\n",
    "plt.figure(fignum)\n",
    "plt.imshow(sample_image)\n",
    "plt.savefig('output/sample_image.png')\n",
    "\n",
    "fignum=fignum+1\n",
    "plt.figure(fignum)\n",
    "plt.imshow(sample_image_gray, cmap='gray')\n",
    "plt.savefig('output/sample_image_gray.png')"
   ]
  },
  {
   "cell_type": "code",
   "execution_count": null,
   "metadata": {},
   "outputs": [],
   "source": [
    "n_classes = len(unique_labels(y_train))\n",
    "n_train = len(X_train)\n",
    "n_average = n_train // n_classes\n",
    "hist = []\n",
    "augment_factor = []\n",
    "for i in range(n_classes):\n",
    "    nsamples = sum(y_train == i)\n",
    "    hist.append(nsamples)\n",
    "    augment_factor.append(n_average // nsamples)\n",
    "\n",
    "print(hist)\n",
    "print(n_average)\n",
    "print(max(hist))\n",
    "max_hist = max(hist)\n",
    "augment_factor = [max_hist // hist[i] for i in range(n_classes)]\n",
    "print(augment_factor)"
   ]
  },
  {
   "cell_type": "code",
   "execution_count": null,
   "metadata": {},
   "outputs": [],
   "source": [
    "def add_noise(input_image, mean=0, var=10):\n",
    "    sigma = var ** 0.5\n",
    "    gaussian = np.random.normal(mean, sigma, input_image.shape)\n",
    "    noisy_image = np.zeros(input_image.shape, np.float32)\n",
    "    noisy_image[:, :, :] = input_image[:, :, :] + gaussian\n",
    "    cv2.normalize(noisy_image, noisy_image, 0, 255, cv2.NORM_MINMAX, dtype=-1)\n",
    "    noisy_image = noisy_image.astype(np.uint8)\n",
    "    \n",
    "    return noisy_image\n",
    "\n",
    "def expand_dataset(X_input, y_input, new_elements = 1000):\n",
    "    X_duplicate = []\n",
    "    y_duplicate = []\n",
    "    n_output = 0\n",
    "    for i in range(new_elements):\n",
    "        i_input = i       \n",
    "        ilabel = y_input[i_input]\n",
    "        if augment_factor[ilabel] > 1:\n",
    "            for _ in range(augment_factor[ilabel]-1):\n",
    "                n_output += 1\n",
    "                X_duplicate.append(add_noise(X_input[i_input, :, :, :]))\n",
    "                y_duplicate.append(y_input[i_input])\n",
    "        \n",
    "    return X_duplicate, y_duplicate\n",
    "\n",
    "X_duplicate, y_duplicate = expand_dataset(X_train, y_train, len(X_train))\n",
    "X_expanded = np.concatenate((X_train, X_duplicate), axis=0)\n",
    "y_expanded = np.concatenate((y_train, y_duplicate), axis=0)\n",
    "X_train = X_expanded\n",
    "y_train = y_expanded\n",
    "# print(y_train[-2])\n",
    "# plt.imshow(X_train[-2])\n",
    "print(y_duplicate[-2])\n",
    "plt.imshow(X_duplicate[-2])"
   ]
  },
  {
   "cell_type": "code",
   "execution_count": null,
   "metadata": {},
   "outputs": [],
   "source": [
    "original_image = X_train[34248]\n",
    "original_image_noise = add_noise(original_image, mean=0, var=10)\n",
    "\n",
    "fignum=fignum+1\n",
    "plt.figure(fignum)\n",
    "plt.imshow(original_image)\n",
    "plt.savefig('output/original_image.png')\n",
    "\n",
    "fignum=fignum+1\n",
    "plt.figure(fignum)\n",
    "plt.imshow(original_image_noise)\n",
    "plt.savefig('output/original_image_noise.png')"
   ]
  },
  {
   "cell_type": "code",
   "execution_count": null,
   "metadata": {
    "scrolled": true
   },
   "outputs": [],
   "source": [
    "n_classes = len(unique_labels(y_train))\n",
    "n_train = len(X_train)\n",
    "n_average = n_train // n_classes\n",
    "fignum += 1\n",
    "plt.figure(fignum)\n",
    "plt.hist(y_train, bins=n_classes)  # arguments are passed to np.histogram\n",
    "plt.title(\"Histogram for training data after augmentation\")\n",
    "plt.xlabel(\"Class label\")\n",
    "plt.ylabel(\"Number of samples\")\n",
    "plt.savefig(\"output/histogram_training_augment.png\")"
   ]
  },
  {
   "cell_type": "markdown",
   "metadata": {},
   "source": [
    "----\n",
    "\n",
    "## Step 2: Design and Test a Model Architecture\n",
    "\n",
    "Design and implement a deep learning model that learns to recognize traffic signs. Train and test your model on the [German Traffic Sign Dataset](http://benchmark.ini.rub.de/?section=gtsrb&subsection=dataset).\n",
    "\n",
    "The LeNet-5 implementation shown in the [classroom](https://classroom.udacity.com/nanodegrees/nd013/parts/fbf77062-5703-404e-b60c-95b78b2f3f9e/modules/6df7ae49-c61c-4bb2-a23e-6527e69209ec/lessons/601ae704-1035-4287-8b11-e2c2716217ad/concepts/d4aca031-508f-4e0b-b493-e7b706120f81) at the end of the CNN lesson is a solid starting point. You'll have to change the number of classes and possibly the preprocessing, but aside from that it's plug and play! \n",
    "\n",
    "With the LeNet-5 solution from the lecture, you should expect a validation set accuracy of about 0.89. To meet specifications, the validation set accuracy will need to be at least 0.93. It is possible to get an even higher accuracy, but 0.93 is the minimum for a successful project submission. \n",
    "\n",
    "There are various aspects to consider when thinking about this problem:\n",
    "\n",
    "- Neural network architecture (is the network over or underfitting?)\n",
    "- Play around preprocessing techniques (normalization, rgb to grayscale, etc)\n",
    "- Number of examples per label (some have more than others).\n",
    "- Generate fake data.\n",
    "\n",
    "Here is an example of a [published baseline model on this problem](http://yann.lecun.com/exdb/publis/pdf/sermanet-ijcnn-11.pdf). It's not required to be familiar with the approach used in the paper but, it's good practice to try to read papers like these."
   ]
  },
  {
   "cell_type": "markdown",
   "metadata": {},
   "source": [
    "### Pre-process the Data Set (normalization, grayscale, etc.)"
   ]
  },
  {
   "cell_type": "markdown",
   "metadata": {},
   "source": [
    "Minimally, the image data should be normalized so that the data has mean zero and equal variance. For image data, `(pixel - 128)/ 128` is a quick way to approximately normalize the data and can be used in this project. \n",
    "\n",
    "Other pre-processing steps are optional. You can try different techniques to see if it improves performance. \n",
    "\n",
    "Use the code cell (or multiple code cells, if necessary) to implement the first step of your project."
   ]
  },
  {
   "cell_type": "code",
   "execution_count": null,
   "metadata": {},
   "outputs": [],
   "source": [
    "### Preprocess the data here. It is required to normalize the data. Other preprocessing steps could include \n",
    "### converting to grayscale, etc.\n",
    "### Feel free to use as many code cells as needed.\n",
    "X_train_gray = np.zeros((X_train.shape[0], X_train.shape[1], X_train.shape[2], 1), dtype=np.float32)\n",
    "X_valid_gray = np.zeros((X_valid.shape[0], X_valid.shape[1], X_valid.shape[2], 1), dtype=np.float32)\n",
    "X_test_gray = np.zeros((X_test.shape[0], X_test.shape[1], X_test.shape[2], 1), dtype=np.float32)\n",
    "for i in range(n_train):\n",
    "    X_train_gray[i,:,:,0] = cv2.cvtColor(X_train[i], cv2.COLOR_RGB2GRAY)\n",
    "for i in range(n_validation):\n",
    "    X_valid_gray[i,:,:,0] = cv2.cvtColor(X_valid[i], cv2.COLOR_RGB2GRAY)\n",
    "for i in range(n_test):\n",
    "    X_test_gray[i,:,:,0] = cv2.cvtColor(X_test[i], cv2.COLOR_RGB2GRAY)\n",
    "\n",
    "#X_train_gray = np.int_(X_train_gray)\n",
    "#print(X_train_gray.shape)\n",
    "plt.imshow(np.int_(X_train_gray[2000].squeeze()), cmap='gray')\n",
    "X_train_gray = (X_train_gray - 128) / 128.0 \n",
    "X_valid_gray = (X_valid_gray - 128) / 128.0\n",
    "X_test_gray = (X_test_gray - 128) / 128.0"
   ]
  },
  {
   "cell_type": "markdown",
   "metadata": {},
   "source": [
    "### Model Architecture"
   ]
  },
  {
   "cell_type": "code",
   "execution_count": null,
   "metadata": {},
   "outputs": [],
   "source": [
    "### Define your architecture here.\n",
    "### Feel free to use as many code cells as needed.\n",
    "def LeNet(x_input):    \n",
    "   # Arguments used for tf.truncated_normal, randomly defines variables for the weights and biases for each layer\n",
    "    mu = 0\n",
    "    sigma = 0.1\n",
    "    \n",
    "    input1_height = int(x_input.shape[1])\n",
    "    input1_width = int(x_input.shape[2])\n",
    "    input1_channels = 1\n",
    "    \n",
    "    f1_height = 5\n",
    "    f1_width = 5\n",
    "    f1_out_channels = 10\n",
    "    f1_stride = 1\n",
    "    f1_pad = 0\n",
    "    \n",
    "    output1_height = (input1_height - f1_width + 2*f1_pad) // f1_stride + 1 \n",
    "    output1_width = (input1_width - f1_width + 2*f1_pad) // f1_stride + 1\n",
    "    output1_channels = f1_out_channels\n",
    "    \n",
    "    #print(output1_height, output1_width, output1_channels)\n",
    "    \n",
    "    f1p_height = 2\n",
    "    f1p_width = 2\n",
    "    f1p_stride = 2\n",
    "    f1p_pad = 0\n",
    "    \n",
    "    output1p_height = (output1_height - f1p_height + 2*f1p_pad) // f1p_stride + 1 \n",
    "    output1p_width = (output1_width - f1p_width + 2*f1p_pad) // f1p_stride + 1 \n",
    "    output1p_channels = output1_channels\n",
    "    \n",
    "    #print(output1p_height, output1p_width)\n",
    "    \n",
    "    input2_height = output1p_height\n",
    "    input2_width = output1p_width\n",
    "    input2_channels = output1p_channels\n",
    "    \n",
    "    f2_height = 5\n",
    "    f2_width = 5\n",
    "    f2_in_channels = input2_channels\n",
    "    f2_out_channels = 25\n",
    "    f2_stride = 1\n",
    "    f2_pad = 0\n",
    "    \n",
    "    output2_height = (input2_height - f2_width + 2*f2_pad) // f2_stride + 1\n",
    "    output2_width = (input2_width - f2_width + 2*f2_pad) // f2_stride + 1\n",
    "    output2_channels = f2_out_channels\n",
    "    \n",
    "    #print(output2_height, output2_width, output2_channels)\n",
    "    \n",
    "    f2p_height = 2\n",
    "    f2p_width = 2\n",
    "    f2p_stride = 2\n",
    "    f2p_pad = 0\n",
    "    \n",
    "    output2p_height = (output2_height - f2p_height + 2*f2p_pad) // f2p_stride + 1 \n",
    "    output2p_width = (output2_width - f2p_width + 2*f2p_pad) // f2p_stride + 1 \n",
    "    output2p_channels = output2_channels\n",
    "    \n",
    "    #print(output2p_height, output2p_width, output2_channels)\n",
    "    \n",
    "    input3_length = output2p_height * output2p_width * output2_channels\n",
    "    \n",
    "    #print(input3_length, type(input3_length))\n",
    "    \n",
    "    input4_length = 120\n",
    "    input5_length = 84\n",
    "    \n",
    "    weights = {\n",
    "        'wc1': tf.Variable(tf.random_normal([f1_height, f1_width, input1_channels, f1_out_channels], mean=mu, stddev=sigma)),\n",
    "        'wc2': tf.Variable(tf.random_normal([f2_height, f2_width, f2_in_channels, f2_out_channels], mean=mu, stddev=sigma)),\n",
    "        'wd1': tf.Variable(tf.random_normal([input3_length, input4_length], mean=mu, stddev=sigma)),\n",
    "        'wd2': tf.Variable(tf.random_normal([input4_length, input5_length], mean=mu, stddev=sigma)),\n",
    "        'out': tf.Variable(tf.random_normal([input5_length, n_classes], mean=mu, stddev=sigma))}\n",
    "\n",
    "    biases = {\n",
    "        'bc1': tf.Variable(tf.random_normal([f1_out_channels], mean=mu, stddev=sigma)),\n",
    "        'bc2': tf.Variable(tf.random_normal([f2_out_channels], mean=mu, stddev=sigma)),\n",
    "        'bd1': tf.Variable(tf.random_normal([input4_length], mean=mu, stddev=sigma)),\n",
    "        'bd2': tf.Variable(tf.random_normal([input5_length], mean=mu, stddev=sigma)),\n",
    "        'out': tf.Variable(tf.random_normal([n_classes], mean=mu, stddev=sigma))}\n",
    "    \n",
    "    # TODO: Layer 1: Convolutional. Input = 32x32x1. Output = 28x28x6.\n",
    "    x = tf.nn.conv2d(x_input, weights['wc1'], strides=[1, f1_stride, f1_stride, 1], padding='VALID')\n",
    "    x = tf.nn.bias_add(x, biases['bc1'])\n",
    "\n",
    "    # TODO: Activation.\n",
    "    x = tf.nn.relu(x)\n",
    "    #x = tf.nn.dropout(x, keep_prob=0.5)\n",
    "\n",
    "    # TODO: Pooling. Input = 28x28x10. Output = 14x14x10.\n",
    "    x = tf.nn.max_pool(x, ksize=[1, f1p_height, f1p_width, 1], strides=[1, f1p_stride, f1p_stride, 1], padding='SAME')\n",
    "\n",
    "    # TODO: Layer 2: Convolutional. Output = 10x10x25.\n",
    "    x = tf.nn.conv2d(x, weights['wc2'], strides=[1, f2_stride, f2_stride, 1], padding='VALID')\n",
    "    x = tf.nn.bias_add(x, biases['bc2'])\n",
    "    \n",
    "    # TODO: Activation.\n",
    "    x = tf.nn.relu(x)\n",
    "    #x = tf.nn.dropout(x, keep_prob=0.5)\n",
    "\n",
    "    # TODO: Pooling. Input = 10x10x25. Output = 5x5x25.\n",
    "    x = tf.nn.max_pool(x, ksize=[1, f2p_height, f2p_width, 1], strides=[1, f2p_stride, f2p_stride, 1], padding='SAME')\n",
    "    \n",
    "    # TODO: Flatten. Input = 5x5x25. Output = 625.    \n",
    "    x = tf.reshape(x, [-1, weights['wd1'].get_shape().as_list()[0]])\n",
    "    \n",
    "    # TODO: Layer 3: Fully Connected. Input = 625. Output = 120.\n",
    "    x = tf.add(tf.matmul(x, weights['wd1']), biases['bd1'])\n",
    "   \n",
    "    # TODO: Activation.\n",
    "    x = tf.nn.relu(x)\n",
    "    x = tf.nn.dropout(x, keep_prob=0.8)\n",
    "\n",
    "    # TODO: Layer 4: Fully Connected. Input = 120. Output = 84.\n",
    "    x = tf.add(tf.matmul(x, weights['wd2']), biases['bd2'])\n",
    "    \n",
    "    # TODO: Activation.\n",
    "    x = tf.nn.relu(x)\n",
    "\n",
    "    # TODO: Layer 5: Fully Connected. Input = 84. Output = 10.\n",
    "    logits = tf.add(tf.matmul(x, weights['out']), biases['out'])\n",
    "    \n",
    "    return logits\n"
   ]
  },
  {
   "cell_type": "markdown",
   "metadata": {},
   "source": [
    "### Train, Validate and Test the Model"
   ]
  },
  {
   "cell_type": "markdown",
   "metadata": {},
   "source": [
    "A validation set can be used to assess how well the model is performing. A low accuracy on the training and validation\n",
    "sets imply underfitting. A high accuracy on the training set but low accuracy on the validation set implies overfitting."
   ]
  },
  {
   "cell_type": "code",
   "execution_count": null,
   "metadata": {},
   "outputs": [],
   "source": [
    "### Train your model here.\n",
    "### Calculate and report the accuracy on the training and validation set.\n",
    "### Once a final model architecture is selected, \n",
    "### the accuracy on the test set should be calculated and reported as well.\n",
    "### Feel free to use as many code cells as needed.\n",
    "\n",
    "\n",
    "x = tf.placeholder(tf.float32, (None, image_shape[0], image_shape[1], 1))\n",
    "y = tf.placeholder(tf.int32, (None))\n",
    "one_hot_y = tf.one_hot(y, n_classes)\n",
    "\n",
    "rate = 0.001\n",
    "\n",
    "logits = LeNet(x)\n",
    "cross_entropy = tf.nn.softmax_cross_entropy_with_logits(labels=one_hot_y, logits=logits)\n",
    "loss_operation = tf.reduce_mean(cross_entropy)\n",
    "optimizer = tf.train.AdamOptimizer(learning_rate = rate)\n",
    "training_operation = optimizer.minimize(loss_operation)"
   ]
  },
  {
   "cell_type": "code",
   "execution_count": null,
   "metadata": {},
   "outputs": [],
   "source": [
    "predicted_labels = tf.argmax(logits, 1)\n",
    "expected_labels = tf.argmax(one_hot_y, 1)\n",
    "#top_labels = tf.nn.top_k(tf.nn.softmax(logits), 5)\n",
    "top_labels = tf.nn.top_k(logits, 5)\n",
    "correct_prediction = tf.equal(predicted_labels, expected_labels)\n",
    "accuracy_operation = tf.reduce_mean(tf.cast(correct_prediction, tf.float32))\n",
    "saver = tf.train.Saver()\n",
    "\n",
    "def evaluate(X_data, y_data):\n",
    "    num_examples = len(X_data)\n",
    "    total_accuracy = 0\n",
    "    sess = tf.get_default_session()\n",
    "    for offset in range(0, num_examples, BATCH_SIZE):\n",
    "        batch_x, batch_y = X_data[offset:offset+BATCH_SIZE], y_data[offset:offset+BATCH_SIZE]\n",
    "        accuracy, prediction = sess.run([accuracy_operation, predicted_labels], feed_dict={x: batch_x, y: batch_y})\n",
    "        total_accuracy += (accuracy * len(batch_x))\n",
    "    return prediction, total_accuracy / num_examples\n"
   ]
  },
  {
   "cell_type": "code",
   "execution_count": null,
   "metadata": {},
   "outputs": [],
   "source": [
    "with tf.Session() as sess:\n",
    "    sess.run(tf.global_variables_initializer())\n",
    "    num_examples = len(X_train_gray)\n",
    "    \n",
    "    print(\"Training...\")\n",
    "    print()\n",
    "    for i in range(EPOCHS):\n",
    "        X_train_gray, y_train = shuffle(X_train_gray, y_train)\n",
    "        for offset in range(0, num_examples, BATCH_SIZE):\n",
    "            end = offset + BATCH_SIZE\n",
    "            batch_x, batch_y = X_train_gray[offset:end], y_train[offset:end]\n",
    "            sess.run(training_operation, feed_dict={x: batch_x, y: batch_y})\n",
    "        \n",
    "        y_train_pred, train_accuracy = evaluate(X_train_gray, y_train)    \n",
    "        y_valid_pred, validation_accuracy = evaluate(X_valid_gray, y_valid)\n",
    "        y_test_pred, test_accuracy = evaluate(X_test_gray, y_test)\n",
    "        print(\"EPOCH {} ...\".format(i+1))\n",
    "        print(\"Train Accuracy = {:.3f}\".format(train_accuracy))\n",
    "        print(\"Validation Accuracy = {:.3f}\".format(validation_accuracy))\n",
    "        print(\"Test Accuracy = {:.3f}\".format(test_accuracy))\n",
    "        print()\n",
    "        \n",
    "    saver.save(sess, './lenet')\n",
    "    print(\"Model saved\")"
   ]
  },
  {
   "cell_type": "markdown",
   "metadata": {},
   "source": [
    "---\n",
    "\n",
    "## Step 3: Test a Model on New Images\n",
    "\n",
    "To give yourself more insight into how your model is working, download at least five pictures of German traffic signs from the web and use your model to predict the traffic sign type.\n",
    "\n",
    "You may find `signnames.csv` useful as it contains mappings from the class id (integer) to the actual sign name."
   ]
  },
  {
   "cell_type": "markdown",
   "metadata": {},
   "source": [
    "### Load and Output the Images"
   ]
  },
  {
   "cell_type": "code",
   "execution_count": null,
   "metadata": {},
   "outputs": [],
   "source": [
    "### Load the images and plot them here.\n",
    "### Feel free to use as many code cells as needed.\n",
    "## Images taken from \n",
    "## https://www.autoeurope.com/travel-guides/germany/germany-road-signs/\n",
    "## https://en.wikipedia.org/wiki/Road_signs_in_Germany\n",
    "web_images = ['children_crossing.png',\n",
    "'german-road-signs-animals.png',\n",
    "'german-road-signs-traffic.png',  \n",
    "'germany-speed-limit-sign-60.png',  \n",
    "'roadwork.png',  \n",
    "'do_not_enter.png',       \n",
    "'german-stop-sign.png']\n",
    "traffic_sign = np.zeros((len(web_images), 32, 32, 1))\n",
    "for i, img in enumerate(web_images):\n",
    "    image = cv2.imread(img)\n",
    "    traffic_sign[i, :, :, 0] = cv2.resize(cv2.cvtColor(image, cv2.COLOR_BGR2GRAY), (32, 32))\n",
    "\n",
    "plt.figure(2, figsize=(32,32))\n",
    "for featuremap in range(len(traffic_sign)):\n",
    "    plt.subplot(6,5, featuremap+1) # sets the number of feature maps to show on each row and column\n",
    "    plt.title(web_images[featuremap]) # displays the feature map number\n",
    "    plt.imshow(traffic_sign[featuremap,:,:,0], cmap=\"gray\")    \n"
   ]
  },
  {
   "cell_type": "markdown",
   "metadata": {},
   "source": [
    "### Predict the Sign Type for Each Image"
   ]
  },
  {
   "cell_type": "code",
   "execution_count": null,
   "metadata": {},
   "outputs": [],
   "source": [
    "### Run the predictions here and use the model to output the prediction for each image.\n",
    "### Make sure to pre-process the images with the same pre-processing pipeline used earlier.\n",
    "### Feel free to use as many code cells as needed.\n",
    "saver = tf.train.Saver()\n",
    "\n",
    "number2description = {}\n",
    "f = open('signnames.csv', 'r')\n",
    "for line in f:\n",
    "    number, description = line.split(',')\n",
    "    number2description[number] =  description\n",
    "    \n",
    "with tf.Session() as sess:\n",
    "    saver.restore(sess, './lenet')\n",
    "    [traffic_sign_top_labels, traffic_sign_prediction] = sess.run([top_labels, predicted_labels], feed_dict={x: traffic_sign})\n",
    "\n",
    "sign_descriptions = list(map(lambda x: number2description[str(x)], traffic_sign_prediction))\n",
    "print('Sign descriptions: {}'.format(sign_descriptions))"
   ]
  },
  {
   "cell_type": "markdown",
   "metadata": {},
   "source": [
    "### Analyze Performance"
   ]
  },
  {
   "cell_type": "code",
   "execution_count": null,
   "metadata": {},
   "outputs": [],
   "source": [
    "### Calculate the accuracy for these 5 new images. \n",
    "### For example, if the model predicted 1 out of 5 signs correctly, it's 20% accurate on these new images."
   ]
  },
  {
   "cell_type": "markdown",
   "metadata": {},
   "source": [
    "### Output Top 5 Softmax Probabilities For Each Image Found on the Web"
   ]
  },
  {
   "cell_type": "markdown",
   "metadata": {},
   "source": [
    "For each of the new images, print out the model's softmax probabilities to show the **certainty** of the model's predictions (limit the output to the top 5 probabilities for each image). [`tf.nn.top_k`](https://www.tensorflow.org/versions/r0.12/api_docs/python/nn.html#top_k) could prove helpful here. \n",
    "\n",
    "The example below demonstrates how tf.nn.top_k can be used to find the top k predictions for each image.\n",
    "\n",
    "`tf.nn.top_k` will return the values and indices (class ids) of the top k predictions. So if k=3, for each sign, it'll return the 3 largest probabilities (out of a possible 43) and the correspoding class ids.\n",
    "\n",
    "Take this numpy array as an example. The values in the array represent predictions. The array contains softmax probabilities for five candidate images with six possible classes. `tf.nn.top_k` is used to choose the three classes with the highest probability:\n",
    "\n",
    "```\n",
    "# (5, 6) array\n",
    "a = np.array([[ 0.24879643,  0.07032244,  0.12641572,  0.34763842,  0.07893497,\n",
    "         0.12789202],\n",
    "       [ 0.28086119,  0.27569815,  0.08594638,  0.0178669 ,  0.18063401,\n",
    "         0.15899337],\n",
    "       [ 0.26076848,  0.23664738,  0.08020603,  0.07001922,  0.1134371 ,\n",
    "         0.23892179],\n",
    "       [ 0.11943333,  0.29198961,  0.02605103,  0.26234032,  0.1351348 ,\n",
    "         0.16505091],\n",
    "       [ 0.09561176,  0.34396535,  0.0643941 ,  0.16240774,  0.24206137,\n",
    "         0.09155967]])\n",
    "```\n",
    "\n",
    "Running it through `sess.run(tf.nn.top_k(tf.constant(a), k=3))` produces:\n",
    "\n",
    "```\n",
    "TopKV2(values=array([[ 0.34763842,  0.24879643,  0.12789202],\n",
    "       [ 0.28086119,  0.27569815,  0.18063401],\n",
    "       [ 0.26076848,  0.23892179,  0.23664738],\n",
    "       [ 0.29198961,  0.26234032,  0.16505091],\n",
    "       [ 0.34396535,  0.24206137,  0.16240774]]), indices=array([[3, 0, 5],\n",
    "       [0, 1, 4],\n",
    "       [0, 5, 1],\n",
    "       [1, 3, 5],\n",
    "       [1, 4, 3]], dtype=int32))\n",
    "```\n",
    "\n",
    "Looking just at the first row we get `[ 0.34763842,  0.24879643,  0.12789202]`, you can confirm these are the 3 largest probabilities in `a`. You'll also notice `[3, 0, 5]` are the corresponding indices."
   ]
  },
  {
   "cell_type": "code",
   "execution_count": null,
   "metadata": {},
   "outputs": [],
   "source": [
    "### Print out the top five softmax probabilities for the predictions on the German traffic sign images found on the web. \n",
    "### Feel free to use as many code cells as needed.\n",
    "values = traffic_sign_top_labels.values\n",
    "indices = traffic_sign_top_labels.indices\n",
    "i=0\n",
    "plt.figure(i)\n",
    "plt.imshow(traffic_sign[i,:,:,0], cmap='gray')\n",
    "for j in range(len(indices[i])):\n",
    "    print(str(values[i][j]), number2description[str(indices[i][j])])"
   ]
  },
  {
   "cell_type": "code",
   "execution_count": null,
   "metadata": {},
   "outputs": [],
   "source": [
    "i=1\n",
    "plt.figure(i)\n",
    "plt.imshow(traffic_sign[i,:,:,0], cmap='gray')\n",
    "for j in range(len(indices[i])):\n",
    "    print(str(values[i][j]), number2description[str(indices[i][j])])"
   ]
  },
  {
   "cell_type": "code",
   "execution_count": null,
   "metadata": {},
   "outputs": [],
   "source": [
    "i=2\n",
    "plt.figure(i)\n",
    "plt.imshow(traffic_sign[i,:,:,0], cmap='gray')\n",
    "for j in range(len(indices[i])):\n",
    "    print(str(values[i][j]), number2description[str(indices[i][j])])"
   ]
  },
  {
   "cell_type": "code",
   "execution_count": null,
   "metadata": {},
   "outputs": [],
   "source": [
    "i=3\n",
    "plt.figure(i)\n",
    "plt.imshow(traffic_sign[i,:,:,0], cmap='gray')\n",
    "for j in range(len(indices[i])):\n",
    "    print(str(values[i][j]), number2description[str(indices[i][j])])"
   ]
  },
  {
   "cell_type": "code",
   "execution_count": null,
   "metadata": {},
   "outputs": [],
   "source": [
    "i=4\n",
    "plt.figure(i)\n",
    "plt.imshow(traffic_sign[i,:,:,0], cmap='gray')\n",
    "for j in range(len(indices[i])):\n",
    "    print(str(values[i][j]), number2description[str(indices[i][j])])"
   ]
  },
  {
   "cell_type": "code",
   "execution_count": null,
   "metadata": {},
   "outputs": [],
   "source": [
    "i=5\n",
    "plt.figure(i)\n",
    "plt.imshow(traffic_sign[i,:,:,0], cmap='gray')\n",
    "for j in range(len(indices[i])):\n",
    "    print(str(values[i][j]), number2description[str(indices[i][j])])"
   ]
  },
  {
   "cell_type": "code",
   "execution_count": null,
   "metadata": {},
   "outputs": [],
   "source": [
    "i=6\n",
    "plt.figure(i)\n",
    "plt.imshow(traffic_sign[i,:,:,0], cmap='gray')\n",
    "for j in range(len(indices[i])):\n",
    "    print(str(values[i][j]), number2description[str(indices[i][j])])"
   ]
  },
  {
   "cell_type": "markdown",
   "metadata": {},
   "source": [
    "### Project Writeup\n",
    "\n",
    "Once you have completed the code implementation, document your results in a project writeup using this [template](https://github.com/udacity/CarND-Traffic-Sign-Classifier-Project/blob/master/writeup_template.md) as a guide. The writeup can be in a markdown or pdf file. "
   ]
  },
  {
   "cell_type": "markdown",
   "metadata": {},
   "source": [
    "> **Note**: Once you have completed all of the code implementations and successfully answered each question above, you may finalize your work by exporting the iPython Notebook as an HTML document. You can do this by using the menu above and navigating to  \\n\",\n",
    "    \"**File -> Download as -> HTML (.html)**. Include the finished document along with this notebook as your submission."
   ]
  },
  {
   "cell_type": "markdown",
   "metadata": {},
   "source": [
    "---\n",
    "\n",
    "## Step 4 (Optional): Visualize the Neural Network's State with Test Images\n",
    "\n",
    " This Section is not required to complete but acts as an additional excersise for understaning the output of a neural network's weights. While neural networks can be a great learning device they are often referred to as a black box. We can understand what the weights of a neural network look like better by plotting their feature maps. After successfully training your neural network you can see what it's feature maps look like by plotting the output of the network's weight layers in response to a test stimuli image. From these plotted feature maps, it's possible to see what characteristics of an image the network finds interesting. For a sign, maybe the inner network feature maps react with high activation to the sign's boundary outline or to the contrast in the sign's painted symbol.\n",
    "\n",
    " Provided for you below is the function code that allows you to get the visualization output of any tensorflow weight layer you want. The inputs to the function should be a stimuli image, one used during training or a new one you provided, and then the tensorflow variable name that represents the layer's state during the training process, for instance if you wanted to see what the [LeNet lab's](https://classroom.udacity.com/nanodegrees/nd013/parts/fbf77062-5703-404e-b60c-95b78b2f3f9e/modules/6df7ae49-c61c-4bb2-a23e-6527e69209ec/lessons/601ae704-1035-4287-8b11-e2c2716217ad/concepts/d4aca031-508f-4e0b-b493-e7b706120f81) feature maps looked like for it's second convolutional layer you could enter conv2 as the tf_activation variable.\n",
    "\n",
    "For an example of what feature map outputs look like, check out NVIDIA's results in their paper [End-to-End Deep Learning for Self-Driving Cars](https://devblogs.nvidia.com/parallelforall/deep-learning-self-driving-cars/) in the section Visualization of internal CNN State. NVIDIA was able to show that their network's inner weights had high activations to road boundary lines by comparing feature maps from an image with a clear path to one without. Try experimenting with a similar test to show that your trained network's weights are looking for interesting features, whether it's looking at differences in feature maps from images with or without a sign, or even what feature maps look like in a trained network vs a completely untrained one on the same sign image.\n",
    "\n",
    "<figure>\n",
    " <img src=\"visualize_cnn.png\" width=\"380\" alt=\"Combined Image\" />\n",
    " <figcaption>\n",
    " <p></p> \n",
    " <p style=\"text-align: center;\"> Your output should look something like this (above)</p> \n",
    " </figcaption>\n",
    "</figure>\n",
    " <p></p> \n"
   ]
  },
  {
   "cell_type": "code",
   "execution_count": null,
   "metadata": {},
   "outputs": [],
   "source": [
    "### Visualize your network's feature maps here.\n",
    "### Feel free to use as many code cells as needed.\n",
    "\n",
    "# image_input: the test image being fed into the network to produce the feature maps\n",
    "# tf_activation: should be a tf variable name used during your training procedure that represents the calculated state of a specific weight layer\n",
    "# activation_min/max: can be used to view the activation contrast in more detail, by default matplot sets min and max to the actual min and max values of the output\n",
    "# plt_num: used to plot out multiple different weight feature map sets on the same block, just extend the plt number for each new feature map entry\n",
    "\n",
    "def outputFeatureMap(image_input, tf_activation, activation_min=-1, activation_max=-1 ,plt_num=1):\n",
    "    # Here make sure to preprocess your image_input in a way your network expects\n",
    "    # with size, normalization, ect if needed\n",
    "    # image_input =\n",
    "    # Note: x should be the same name as your network's tensorflow data placeholder variable\n",
    "    # If you get an error tf_activation is not defined it may be having trouble accessing the variable from inside a function\n",
    "    activation = tf_activation.eval(session=sess,feed_dict={x : image_input})\n",
    "    featuremaps = activation.shape[3]\n",
    "    plt.figure(plt_num, figsize=(15,15))\n",
    "    for featuremap in range(featuremaps):\n",
    "        plt.subplot(6,8, featuremap+1) # sets the number of feature maps to show on each row and column\n",
    "        plt.title('FeatureMap ' + str(featuremap)) # displays the feature map number\n",
    "        if activation_min != -1 & activation_max != -1:\n",
    "            plt.imshow(activation[0,:,:, featuremap], interpolation=\"nearest\", vmin =activation_min, vmax=activation_max, cmap=\"gray\")\n",
    "        elif activation_max != -1:\n",
    "            plt.imshow(activation[0,:,:, featuremap], interpolation=\"nearest\", vmax=activation_max, cmap=\"gray\")\n",
    "        elif activation_min !=-1:\n",
    "            plt.imshow(activation[0,:,:, featuremap], interpolation=\"nearest\", vmin=activation_min, cmap=\"gray\")\n",
    "        else:\n",
    "            plt.imshow(activation[0,:,:, featuremap], interpolation=\"nearest\", cmap=\"gray\")"
   ]
  }
 ],
 "metadata": {
  "anaconda-cloud": {},
  "kernelspec": {
   "display_name": "Python 3",
   "language": "python",
   "name": "python3"
  },
  "language_info": {
   "codemirror_mode": {
    "name": "ipython",
    "version": 3
   },
   "file_extension": ".py",
   "mimetype": "text/x-python",
   "name": "python",
   "nbconvert_exporter": "python",
   "pygments_lexer": "ipython3",
   "version": "3.5.2"
  },
  "widgets": {
   "state": {},
   "version": "1.1.2"
  }
 },
 "nbformat": 4,
 "nbformat_minor": 1
}
